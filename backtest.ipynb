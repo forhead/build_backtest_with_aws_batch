{
 "cells": [
  {
   "cell_type": "markdown",
   "source": [
    "# 1. 使用AWS Batch进行并行回测任务\n",
    "\n",
    "在这个实验中，我们会把上一个实验中的代码，做容器化改造，让代码可以接受参数的输入，这样我们就可以并行的回测多个币对在同一个交易策略中的表现，达到快速验证同一个交易策略在不同的币对中的盈利能力"
   ],
   "metadata": {}
  },
  {
   "cell_type": "markdown",
   "source": [
    "### 定义环境变量\n",
    "\n",
    "首先定义环境变量"
   ],
   "metadata": {}
  },
  {
   "cell_type": "code",
   "execution_count": 13,
   "source": [
    "import boto3\n",
    "\n",
    "aws_account_id = boto3.client('sts').get_caller_identity().get('Account')\n",
    "repository_name = 'batch-repo'\n",
    "aws_region = 'us-east-1'"
   ],
   "outputs": [],
   "metadata": {}
  },
  {
   "cell_type": "markdown",
   "source": [
    "### 编写Dockerfile\n",
    "\n",
    "Batch运行任务会基于容器来运行，我们需要修改上一个实验的代码，让这个代码可以接受参数输入，这样在并行执行的时候，把币对作为参数传入即可。"
   ],
   "metadata": {}
  },
  {
   "cell_type": "code",
   "execution_count": null,
   "source": [
    "!mkdir batch"
   ],
   "outputs": [],
   "metadata": {}
  },
  {
   "cell_type": "code",
   "execution_count": null,
   "source": [
    "%%writefile batch/backtest.py\n",
    "#!/usr/bin/env python\n",
    "from __future__ import (absolute_import, division, print_function,\n",
    "                        unicode_literals)\n",
    "import datetime\n",
    "import boto3\n",
    "import json\n",
    "import numpy as np\n",
    "import pandas as pd\n",
    "import os.path\n",
    "import sys\n",
    "import pytz\n",
    "import pyarrow.parquet as pq\n",
    "\n",
    "import backtrader as bt\n",
    "\n",
    "class MyStrategy(bt.Strategy):\n",
    "    ## 1、全局参数\n",
    "    params=(('maperiod', 15),\n",
    "            ('printlog', False),)\n",
    "\n",
    "    ## 2、初始化\n",
    "    def __init__(self):\n",
    "\n",
    "        # 初始化交易指令、买卖价格和手续费\n",
    "        self.order = None\n",
    "        self.buyprice = None\n",
    "        self.buycomm = None\n",
    "\n",
    "        # 添加15日移动均线指标。Backtrader 集成了 talib，可以自动算出一些常见的技术指标\n",
    "        self.sma = bt.indicators.SimpleMovingAverage(self.datas[0], period=self.params.maperiod)\n",
    "\n",
    "    ## 3、策略核心逻辑\n",
    "    def next(self):\n",
    "        # 记录收盘价\n",
    "        # self.log('收盘价：%.2f' % self.datas[0].close[0])\n",
    "        if self.order: # 检查是否有指令等待执行\n",
    "            return\n",
    "        # 检查是否持仓   \n",
    "        if not self.position: # 没有持仓\n",
    "            # 执行买入条件判断：收盘价格上涨突破15日均线\n",
    "            if self.datas[0].close > self.sma[0]:\n",
    "                self.size = int(self.broker.cash / self.datas[0].close[0])\n",
    "                self.log('买入委托：%.2f * %.0f' % (self.datas[0].close[0], self.size))\n",
    "                #执行买入\n",
    "                self.order = self.buy(size=self.size)\n",
    "        else:\n",
    "            # 执行卖出条件判断：收盘价格跌破15日均线\n",
    "            if self.datas[0].close < self.sma[0]:\n",
    "                self.log('卖出委托：%.2f * %.0f' % (self.datas[0].close[0], self.size))\n",
    "                #执行卖出\n",
    "                self.order = self.sell(size=self.size)\n",
    "\n",
    "    ## 4、日志记录\n",
    "    # 交易记录日志（可选，默认不输出结果）\n",
    "    def log(self, txt, dt=None, doprint=False):\n",
    "        if self.params.printlog or doprint:\n",
    "            dt = dt or self.datas[0].datetime.date(0)\n",
    "            print(f'{dt.isoformat()},{txt}')\n",
    "\n",
    "    # 记录交易执行情况（可选，默认不输出结果）\n",
    "    def notify_order(self, order):\n",
    "        # 如果 order 为 submitted/accepted，返回空\n",
    "        if order.status in [order.Submitted, order.Accepted]:\n",
    "            return\n",
    "        # 如果 order 为 buy/sell executed，报告价格结果\n",
    "        if order.status in [order.Completed]: \n",
    "            if order.isbuy():\n",
    "                self.log(f'买入：\\n价格：%.2f,\\\n",
    "                现金流：-%.2f,\\\n",
    "                手续费：%.2f' % (order.executed.price, order.executed.value, order.executed.comm))\n",
    "                self.buyprice = order.executed.price\n",
    "                self.buycomm = order.executed.comm\n",
    "            else:\n",
    "                self.log(f'卖出:\\n价格：%.2f,\\\n",
    "                现金流：%.2f,\\\n",
    "                手续费：%.2f' % (order.executed.price, order.executed.price*self.size, order.executed.comm))\n",
    "            self.bar_executed = len(self) \n",
    "\n",
    "        # 如果指令取消/交易失败, 报告结果\n",
    "        elif order.status in [order.Canceled, order.Margin, order.Rejected]:\n",
    "            self.log('交易失败')\n",
    "        self.order = None\n",
    "\n",
    "    # 记录交易收益情况（可省略，默认不输出结果）\n",
    "    def notify_trade(self,trade):\n",
    "        if not trade.isclosed:\n",
    "            return\n",
    "        self.log(f'策略收益：\\n毛收益 {trade.pnl:.2f}, 净收益 {trade.pnlcomm:.2f}')\n",
    "\n",
    "    # 回测结束后输出结果（可省略，默认输出结果）\n",
    "    def stop(self):\n",
    "        self.log('(MA均线： %2d日) 期末总资金 %.2f' %\n",
    "                 (self.params.maperiod, self.broker.getvalue()), doprint=True)\n",
    "\n",
    "\n",
    "\n",
    "def downloadFile(bucket_name, object_name,file_name):\n",
    "    \n",
    "    s3 = boto3.client('s3',region_name='us-east-1')\n",
    "    s3.download_file(bucket_name, object_name, file_name)\n",
    "        \n",
    "        \n",
    "def readData(file_name):\n",
    "    df = pq.read_table(file_name).to_pandas()\n",
    "    df.drop('symbol', 1, inplace=True)\n",
    "    df.drop('volume_btc', 1, inplace=True)\n",
    "    df.drop('unix_time',1, inplace=True)\n",
    "\n",
    "    df.rename(columns={'t_date': 'tradedate'}, inplace=True)\n",
    "    df.rename(columns={'t_high': 'high'}, inplace=True)\n",
    "    df.rename(columns={'t_low': 'low'}, inplace=True)\n",
    "    df.rename(columns={'t_open': 'open'}, inplace=True)\n",
    "    df.rename(columns={'t_close': 'close'}, inplace=True)\n",
    "    df.rename(columns={'volume_usd': 'volume'}, inplace=True)\n",
    "\n",
    "    df['openinterest'] = 0 # 利率直接设为 0\n",
    "\n",
    "    df.set_index('tradedate', inplace=True)\n",
    "    df.sort_index(inplace=True)\n",
    "    return df\n",
    "    \n",
    "        \n",
    "if __name__ == '__main__':\n",
    "    \n",
    "    # 创建 Cerebro 对象\n",
    "    cerebro = bt.Cerebro()\n",
    "\n",
    "    # 读取输入参数，读取s3数据源数据，然后转化为dataframe\n",
    "    bucket_name = sys.argv[1]\n",
    "    object_name = sys.argv[2]\n",
    "    file_name = 'source.parquet'\n",
    "    \n",
    "    downloadFile(bucket_name, object_name,file_name)\n",
    "    \n",
    "    df = readData(file_name)\n",
    "    \n",
    "    # 创建 Data Feed\n",
    "    df.index = pd.to_datetime(df.index)\n",
    "    start = df.index[0]\n",
    "    end = df.index[-1]\n",
    "    print(start, '-', end)\n",
    "    data = bt.feeds.PandasData(dataname=df, fromdate=start, todate=end)\n",
    "    # 将 Data Feed 添加至 Cerebro\n",
    "    cerebro.adddata(data)\n",
    "\n",
    "        # 添加策略 Cerebro\n",
    "    cerebro.addstrategy(MyStrategy, maperiod=15, printlog=True)\n",
    "    \n",
    "    # 设置初始资金\n",
    "    cerebro.broker.setcash(100000.0)\n",
    "    # 设置手续费为万二\n",
    "    cerebro.broker.setcommission(commission=0.0002) \n",
    "\n",
    "    # 在开始时 print 初始账户价值\n",
    "    print('Starting Portfolio Value: %.2f' % cerebro.broker.getvalue())\n",
    "\n",
    "    # 运行回测流程\n",
    "    cerebro.run()\n",
    "\n",
    "    # 在结束时 print 最终账户价值\n",
    "    print('Final Portfolio Value: %.2f' % cerebro.broker.getvalue())\n",
    "    print('Return: %.4f' % (float(cerebro.broker.getvalue())/1e5 - 1))\n",
    "\n",
    "    sys.exit(0)"
   ],
   "outputs": [],
   "metadata": {}
  },
  {
   "cell_type": "markdown",
   "source": [
    "安装backtrader相关模块"
   ],
   "metadata": {}
  },
  {
   "cell_type": "code",
   "execution_count": null,
   "source": [
    "!pip install --upgrade pip\n",
    "!pip install backtrader\n",
    "!pip install matplotlib==3.2.0\n",
    "!pip show backtrader"
   ],
   "outputs": [],
   "metadata": {
    "scrolled": true
   }
  },
  {
   "cell_type": "markdown",
   "source": [
    "本地执行代码"
   ],
   "metadata": {}
  },
  {
   "cell_type": "code",
   "execution_count": null,
   "source": [
    "!python batch/backtest.py salen-datalab ods/union/hour/part-00000-856800ad-3133-4334-ad10-537de18b6879-c000.snappy.parquet"
   ],
   "outputs": [],
   "metadata": {}
  },
  {
   "cell_type": "markdown",
   "source": [
    "接下来，创建一个容器镜像仓库，用于推送镜像"
   ],
   "metadata": {}
  },
  {
   "cell_type": "code",
   "execution_count": 59,
   "source": [
    "ecr = boto3.client('ecr', region_name=aws_region)"
   ],
   "outputs": [],
   "metadata": {}
  },
  {
   "cell_type": "code",
   "execution_count": null,
   "source": [
    "ecr.create_repository(repositoryName=repository_name)"
   ],
   "outputs": [],
   "metadata": {}
  },
  {
   "cell_type": "markdown",
   "source": [
    "编写Dockfile"
   ],
   "metadata": {}
  },
  {
   "cell_type": "code",
   "execution_count": null,
   "source": [
    "%%writefile batch/Dockerfile\n",
    "FROM python:3.8\n",
    "\n",
    "RUN pip --no-cache-dir install \\\n",
    "    backtrader\\\n",
    "    boto3 \\\n",
    "    pandas\n",
    "RUN pip install matplotlib==3.2.0\n",
    "RUN pip install pyarrow\n",
    "\n",
    "ENV PYTHONUNBUFFERED=TRUE\n",
    "ENV PYTHONDONTWRITEBYTECODE=TRUE\n",
    "\n",
    "COPY backtest.py /\n",
    "RUN chmod -R 777 backtest.py\n"
   ],
   "outputs": [],
   "metadata": {}
  },
  {
   "cell_type": "code",
   "execution_count": null,
   "source": [
    "!docker build batch -t {repository_name}"
   ],
   "outputs": [],
   "metadata": {}
  },
  {
   "cell_type": "markdown",
   "source": [
    "将容器推送到远程的ECR镜像仓库"
   ],
   "metadata": {}
  },
  {
   "cell_type": "code",
   "execution_count": 63,
   "source": [
    "!docker tag {repository_name} {aws_account_id}.dkr.ecr.{aws_region}.amazonaws.com/{repository_name}"
   ],
   "outputs": [],
   "metadata": {}
  },
  {
   "cell_type": "code",
   "execution_count": null,
   "source": [
    "!docker images"
   ],
   "outputs": [],
   "metadata": {}
  },
  {
   "cell_type": "code",
   "execution_count": null,
   "source": [
    "!aws ecr get-login-password | docker login --username AWS --password-stdin {aws_account_id}.dkr.ecr.{aws_region}.amazonaws.com"
   ],
   "outputs": [],
   "metadata": {}
  },
  {
   "cell_type": "code",
   "execution_count": null,
   "source": [
    "!docker push {aws_account_id}.dkr.ecr.{aws_region}.amazonaws.com/{repository_name}"
   ],
   "outputs": [],
   "metadata": {}
  },
  {
   "cell_type": "markdown",
   "source": [
    "推送成功后，我们就可以在ECR中看到推送的容器镜像，下一步就是配置AWS Batch的并行任务了"
   ],
   "metadata": {}
  },
  {
   "cell_type": "markdown",
   "source": [
    "## 请参考实验文档，我们通过网页创建AWS Batch的相关环境后，并且通过网页提交不同的计算任务\n",
    "\n",
    "AWS Batch环境的准备主要分为以下几个步骤，我们依次创建，计算环境，任务队列，任务定义，最终提交多个并行任务，等待结果"
   ],
   "metadata": {}
  },
  {
   "cell_type": "markdown",
   "source": [
    "## 使用代码，提交并行任务\n",
    "\n",
    "在之前的实验环节中，我们通过控制台的方式，创建了batch的任务，接下来，我们会通过代码来提交并行任务，注意，我们需要从在console上找到我们的jobqueue以及job definition名字，用来填写进入以下程序中。实际环境中，我们可以通过更多的程序代码来完全实现代码创建以及提交"
   ],
   "metadata": {}
  },
  {
   "cell_type": "code",
   "execution_count": 52,
   "source": [
    "import boto3\n",
    "\n",
    "batch_client = boto3.client('batch')\n",
    "\n",
    "def submit_job(job_name, queue_name, job_definition):\n",
    "    response = batch_client.submit_job(\n",
    "        jobName=job_name,\n",
    "        jobQueue= queue_name,\n",
    "        jobDefinition=job_definition\n",
    "    )\n",
    "\n",
    "\n",
    "# 在AWS Batch中定义好的任务queue\n",
    "quene_name = 'backtestqueue'\n",
    "# 所有在AWS Batch中定义好的job definition名\n",
    "job_definition_list=['btc-usdt-job-def','eth-usdt-jobdef']\n",
    "\n",
    "# 循环提交所有的任务\n",
    "for definition in job_definition_list:\n",
    "    submit_job(definition,quene_name,definition)\n"
   ],
   "outputs": [],
   "metadata": {}
  },
  {
   "cell_type": "markdown",
   "source": [
    "不断执行以下代码获取正在运行的job状态"
   ],
   "metadata": {}
  },
  {
   "cell_type": "code",
   "execution_count": null,
   "source": [
    "response = batch_client.list_jobs(\n",
    "    jobQueue=quene_name,\n",
    "    jobStatus='RUNNING',\n",
    "    maxResults=100\n",
    ")\n",
    "for item in response['jobSummaryList']:\n",
    "    print(item)"
   ],
   "outputs": [],
   "metadata": {}
  },
  {
   "cell_type": "markdown",
   "source": [
    "以上就是通过代码提交并行任务，我们甚至可以通过修改参数，传入更多的参数，计算更多的交易对。在实际的环境中，我们甚至可以把行情数据下载到S3，通过自有环境来做更高频的回测测试"
   ],
   "metadata": {}
  }
 ],
 "metadata": {
  "kernelspec": {
   "display_name": "conda_python3",
   "language": "python",
   "name": "conda_python3"
  },
  "language_info": {
   "codemirror_mode": {
    "name": "ipython",
    "version": 3
   },
   "file_extension": ".py",
   "mimetype": "text/x-python",
   "name": "python",
   "nbconvert_exporter": "python",
   "pygments_lexer": "ipython3",
   "version": "3.6.13"
  }
 },
 "nbformat": 4,
 "nbformat_minor": 5
}