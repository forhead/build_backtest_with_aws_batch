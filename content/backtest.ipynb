{
 "cells": [
  {
   "cell_type": "markdown",
   "id": "70565989",
   "metadata": {},
   "source": [
    "### 1.定义环境变量\n"
   ]
  },
  {
   "cell_type": "code",
   "execution_count": 1,
   "id": "3431cdfd",
   "metadata": {},
   "outputs": [],
   "source": [
    "import boto3\n",
    "\n",
    "aws_account_id = boto3.client('sts').get_caller_identity().get('Account')\n",
    "repository_name = 'backtest-repo'\n",
    "aws_region = 'us-east-1'\n",
    "s3_source = 'backtest-source-2022-03-07' # 用于存储数据源，请按照自己的习惯修改修改名称\n",
    "s3_dest = 'backtest-dest-2022-03-07' # 用于存储计算结果，请按照自己的习惯修改名称"
   ]
  },
  {
   "cell_type": "markdown",
   "id": "2d1641cc",
   "metadata": {},
   "source": [
    "### 2.创建S3存储桶"
   ]
  },
  {
   "cell_type": "code",
   "execution_count": null,
   "id": "c87549ce",
   "metadata": {},
   "outputs": [],
   "source": [
    "import boto3\n",
    "\n",
    "s3 = boto3.client('s3',region_name=aws_region)\n",
    "\n",
    "# 创建存储桶\n",
    "\n",
    "s3.create_bucket(Bucket=s3_source)\n",
    "s3.create_bucket(Bucket=s3_dest)\n",
    "\n",
    "# 确认存储桶创建成功\n",
    "if s3.head_bucket(Bucket=s3_source)['ResponseMetadata']['HTTPStatusCode']==200:\n",
    "    print(s3_source,' created')\n",
    "if s3.head_bucket(Bucket=s3_dest)['ResponseMetadata']['HTTPStatusCode']==200:\n",
    "    print(s3_dest,' created')"
   ]
  },
  {
   "cell_type": "markdown",
   "id": "a712645c",
   "metadata": {},
   "source": [
    "### 3.上传股票数据到S3存储桶"
   ]
  },
  {
   "cell_type": "code",
   "execution_count": null,
   "id": "f2bcffc0",
   "metadata": {},
   "outputs": [],
   "source": [
    "! rm -rf /home/ec2-user/SageMaker/build_backtest_with_aws_batch\n",
    "! git clone https://github.com/forhead/build_backtest_with_aws_batch.git\n",
    "! aws s3 sync build_backtest_with_aws_batch/data_source s3://{s3_source}/"
   ]
  },
  {
   "cell_type": "markdown",
   "id": "62b32c57",
   "metadata": {},
   "source": [
    "### 4.编写Dockerfile\n",
    "\n",
    "Batch执行任务会基于容器来运行，因为AWS Batch执行任务基于容器来运行，所以只需要让代码可以接受参数，在参数中定义历史数据存储桶位置，历史数据文件名，结果存储桶位置。"
   ]
  },
  {
   "cell_type": "code",
   "execution_count": null,
   "id": "208893d0",
   "metadata": {},
   "outputs": [],
   "source": [
    "!mkdir batch"
   ]
  },
  {
   "cell_type": "code",
   "execution_count": null,
   "id": "fbafb9a4",
   "metadata": {},
   "outputs": [],
   "source": [
    "%%writefile batch/backtest.py\n",
    "#!/usr/bin/env python\n",
    "from __future__ import (absolute_import, division, print_function,\n",
    "                        unicode_literals)\n",
    "import datetime\n",
    "import boto3\n",
    "import json\n",
    "import numpy as np\n",
    "import pandas as pd\n",
    "import os.path\n",
    "import sys\n",
    "import pytz\n",
    "import time\n",
    "from os.path import exists\n",
    "\n",
    "import backtrader as bt\n",
    "\n",
    "class MyStrategy(bt.Strategy):\n",
    "    ## 1、全局参数\n",
    "    params=(('maperiod', 15),\n",
    "            ('printlog', False),)\n",
    "\n",
    "    ## 2、初始化\n",
    "    def __init__(self):\n",
    "\n",
    "        # 初始化交易指令、买卖价格和手续费\n",
    "        self.order = None\n",
    "        self.buyprice = None\n",
    "        self.buycomm = None\n",
    "\n",
    "        # 添加15日移动均线指标。Backtrader 集成了 talib，可以自动算出一些常见的技术指标\n",
    "        self.sma = bt.indicators.SimpleMovingAverage(self.datas[0], period=self.params.maperiod)\n",
    "\n",
    "    ## 3、策略核心逻辑\n",
    "    def next(self):\n",
    "        # 记录收盘价\n",
    "        # self.log('收盘价：%.2f' % self.datas[0].close[0])\n",
    "        if self.order: # 检查是否有指令等待执行\n",
    "            return\n",
    "        # 检查是否持仓   \n",
    "        if not self.position: # 没有持仓\n",
    "            # 执行买入条件判断：收盘价格上涨突破15日均线\n",
    "            if self.datas[0].close > self.sma[0]:\n",
    "                self.size = int(self.broker.cash / self.datas[0].close[0])\n",
    "                self.log('买入委托：%.2f * %.0f' % (self.datas[0].close[0], self.size))\n",
    "                #执行买入\n",
    "                self.order = self.buy(size=self.size)\n",
    "        else:\n",
    "            # 执行卖出条件判断：收盘价格跌破15日均线\n",
    "            if self.datas[0].close < self.sma[0]:\n",
    "                self.log('卖出委托：%.2f * %.0f' % (self.datas[0].close[0], self.size))\n",
    "                #执行卖出\n",
    "                self.order = self.sell(size=self.size)\n",
    "\n",
    "    ## 4、日志记录\n",
    "    # 交易记录日志（可选，默认不输出结果）\n",
    "    def log(self, txt, dt=None, doprint=False):\n",
    "        if self.params.printlog or doprint:\n",
    "            dt = dt or self.datas[0].datetime.date(0)\n",
    "            print(f'{dt.isoformat()},{txt}')\n",
    "\n",
    "    # 记录交易执行情况（可选，默认不输出结果）\n",
    "    def notify_order(self, order):\n",
    "        # 如果 order 为 submitted/accepted，返回空\n",
    "        if order.status in [order.Submitted, order.Accepted]:\n",
    "            return\n",
    "        # 如果 order 为 buy/sell executed，报告价格结果\n",
    "        if order.status in [order.Completed]: \n",
    "            if order.isbuy():\n",
    "                self.log(f'买入：\\n价格：%.2f,\\\n",
    "                现金流：-%.2f,\\\n",
    "                手续费：%.2f' % (order.executed.price, order.executed.value, order.executed.comm))\n",
    "                self.buyprice = order.executed.price\n",
    "                self.buycomm = order.executed.comm\n",
    "            else:\n",
    "                self.log(f'卖出:\\n价格：%.2f,\\\n",
    "                现金流：%.2f,\\\n",
    "                手续费：%.2f' % (order.executed.price, order.executed.price*self.size, order.executed.comm))\n",
    "            self.bar_executed = len(self) \n",
    "\n",
    "        # 如果指令取消/交易失败, 报告结果\n",
    "        elif order.status in [order.Canceled, order.Margin, order.Rejected]:\n",
    "            self.log('交易失败')\n",
    "        self.order = None\n",
    "\n",
    "    # 记录交易收益情况（可省略，默认不输出结果）\n",
    "    def notify_trade(self,trade):\n",
    "        if not trade.isclosed:\n",
    "            return\n",
    "        self.log(f'策略收益：\\n毛收益 {trade.pnl:.2f}, 净收益 {trade.pnlcomm:.2f}')\n",
    "\n",
    "    # 回测结束后输出结果（可省略，默认输出结果）\n",
    "    def stop(self):\n",
    "        self.log('(MA均线： %2d日) 期末总资金 %.2f' %\n",
    "                 (self.params.maperiod, self.broker.getvalue()), doprint=True)\n",
    "\n",
    "\n",
    "def downloadFile(bucket_name, object_name, file_name):\n",
    "    s3 = boto3.client('s3',region_name='us-east-1')\n",
    "    s3.download_file(bucket_name, object_name, file_name)\n",
    "    \n",
    "def uploadFile(file_name,bucket_name, key_name):\n",
    "    s3 = boto3.client('s3',region_name='us-east-1')\n",
    "    s3.upload_file(file_name,bucket_name, key_name)\n",
    "        \n",
    "def readData(file_name):\n",
    "    df = pd.read_csv(file_name)\n",
    "    df['ticker'] = df['ticker'].apply(lambda x: str(x))\n",
    "    df['ticker'] = df['ticker'].apply(lambda x: '0'*(6-len(x)) + x)\n",
    "    df['openprice'] = df['openprice'] * df['accumadjfactor'] / df['accumadjfactor'].iloc[-1]\n",
    "    df['closeprice'] = df['closeprice'] * df['accumadjfactor'] / df['accumadjfactor'].iloc[-1]\n",
    "    df['highestprice'] = df['highestprice'] * df['accumadjfactor'] / df['accumadjfactor'].iloc[-1]\n",
    "    df['lowestprice'] = df['lowestprice'] * df['accumadjfactor'] / df['accumadjfactor'].iloc[-1]\n",
    "    df = df[df['isopen'] == True]\n",
    "    df.drop('isopen', 1, inplace=True)\n",
    "    df.drop('accumadjfactor', 1, inplace=True)\n",
    "    df.set_index('tradedate', inplace=True)\n",
    "\n",
    "    df.rename(columns={'openprice': 'open'}, inplace=True)\n",
    "    df.rename(columns={'closeprice': 'close'}, inplace=True)\n",
    "    df.rename(columns={'highestprice': 'high'}, inplace=True)\n",
    "    df.rename(columns={'lowestprice': 'low'}, inplace=True)\n",
    "    df.rename(columns={'turnovervol': 'volume'}, inplace=True)\n",
    "    df['openinterest'] = 0 # A股回测中一般并不考虑利率，通常可以直接设为 0\n",
    "    return df\n",
    "    \n",
    "        \n",
    "if __name__ == '__main__':\n",
    "    \n",
    "    # 创建 Cerebro 对象\n",
    "    cerebro = bt.Cerebro()\n",
    "\n",
    "    # 读取输入参数，读取s3数据源数据，然后转化为dataframe\n",
    "    source_bucket_name = sys.argv[1]\n",
    "    source_file_name = sys.argv[2]\n",
    "    dest_bucket_name = sys.argv[3]\n",
    "    dest_file_name = source_file_name[:-3]+time.strftime(\"%Y-%m-%d-%H_%M_%S\",time.localtime(time.time())) \n",
    "    \n",
    "    downloadFile(source_bucket_name, source_file_name, source_file_name)\n",
    "    \n",
    "    while not os.path.exists(source_file_name):\n",
    "        time.sleep(5)\n",
    "        \n",
    "    df = readData(source_file_name)\n",
    "    \n",
    "    # 创建 Data Feed\n",
    "    df.index = pd.to_datetime(df.index)\n",
    "    start = df.index[0]\n",
    "    end = df.index[-1]\n",
    "    print(start, '-', end)\n",
    "    data = bt.feeds.PandasData(dataname=df, fromdate=start, todate=end)\n",
    "    # 将 Data Feed 添加至 Cerebro\n",
    "    cerebro.adddata(data)\n",
    "\n",
    "    # 添加策略 Cerebro\n",
    "    cerebro.addstrategy(MyStrategy, maperiod=15, printlog=True)\n",
    "    \n",
    "    # 设置初始资金\n",
    "    cerebro.broker.setcash(100000.0)\n",
    "    # 设置手续费为万二\n",
    "    cerebro.broker.setcommission(commission=0.0002) \n",
    "\n",
    "    # 在开始时 print 初始账户价值\n",
    "    print('Starting Portfolio Value: %.2f' % cerebro.broker.getvalue())\n",
    "\n",
    "    # 运行回测流程\n",
    "    cerebro.run()\n",
    "\n",
    "    # 在结束时写入结果到S3存储桶\n",
    "    f = open(dest_file_name, \"a\")\n",
    "    f.write('Final Portfolio Value: %.2f\\n' % cerebro.broker.getvalue())\n",
    "    f.write('Return: %.4f' % (float(cerebro.broker.getvalue())/1e5 - 1))\n",
    "    f.close()\n",
    "    uploadFile(dest_file_name,dest_bucket_name,dest_file_name)\n",
    "    \n",
    "    sys.exit(0)"
   ]
  },
  {
   "cell_type": "markdown",
   "id": "1512a058",
   "metadata": {},
   "source": [
    "### 5.安装backtrader相关模块"
   ]
  },
  {
   "cell_type": "code",
   "execution_count": null,
   "id": "adc18ed9",
   "metadata": {},
   "outputs": [],
   "source": [
    "!pip install --upgrade pip\n",
    "!pip install backtrader\n",
    "!pip install matplotlib==3.2.0\n",
    "!pip show backtrader"
   ]
  },
  {
   "cell_type": "markdown",
   "id": "cf80ea5a",
   "metadata": {},
   "source": [
    "### 6.验证代码可行性"
   ]
  },
  {
   "cell_type": "code",
   "execution_count": null,
   "id": "e8911829",
   "metadata": {},
   "outputs": [],
   "source": [
    "!python batch/backtest.py {s3_source} 600519.csv {s3_dest}"
   ]
  },
  {
   "cell_type": "markdown",
   "id": "22d30d50",
   "metadata": {},
   "source": [
    "### 7.创建一个镜像仓库，并推送容器镜像"
   ]
  },
  {
   "cell_type": "code",
   "execution_count": null,
   "id": "2d7ceb78",
   "metadata": {},
   "outputs": [],
   "source": [
    "import boto3\n",
    "ecr = boto3.client('ecr', region_name=aws_region)\n",
    "ecr.create_repository(repositoryName=repository_name)"
   ]
  },
  {
   "cell_type": "markdown",
   "id": "3af6c284",
   "metadata": {},
   "source": [
    "创建Dockerfile"
   ]
  },
  {
   "cell_type": "code",
   "execution_count": null,
   "id": "97373440",
   "metadata": {},
   "outputs": [],
   "source": [
    "%%writefile batch/Dockerfile\n",
    "FROM python:3.8\n",
    "\n",
    "RUN pip --no-cache-dir install \\\n",
    "    backtrader\\\n",
    "    boto3 \\\n",
    "    pandas\n",
    "RUN pip install matplotlib==3.2.0\n",
    "\n",
    "ENV PYTHONUNBUFFERED=TRUE\n",
    "ENV PYTHONDONTWRITEBYTECODE=TRUE\n",
    "\n",
    "COPY backtest.py /\n",
    "RUN chmod -R 777 backtest.py\n"
   ]
  },
  {
   "cell_type": "markdown",
   "id": "082fa029",
   "metadata": {},
   "source": [
    "将容器推送到远程的ECR镜像仓库"
   ]
  },
  {
   "cell_type": "code",
   "execution_count": null,
   "id": "f81b518d",
   "metadata": {
    "scrolled": true
   },
   "outputs": [],
   "source": [
    "!docker build batch -t {repository_name}\n",
    "!docker tag {repository_name} {aws_account_id}.dkr.ecr.{aws_region}.amazonaws.com/{repository_name}\n",
    "!aws ecr get-login-password | docker login --username AWS --password-stdin {aws_account_id}.dkr.ecr.{aws_region}.amazonaws.com\n",
    "!docker push {aws_account_id}.dkr.ecr.{aws_region}.amazonaws.com/{repository_name}"
   ]
  },
  {
   "cell_type": "markdown",
   "id": "ac898419",
   "metadata": {},
   "source": [
    "## 提交多个任务\n",
    "\n",
    "接下来，我们会通过代码来提交并行任务，注意，我们需要从在console上找到我们的jobqueue以及job definition名字，用来填写进入以下程序中。实际环境中，我们可以通过代码实现更高程度的自动化。"
   ]
  },
  {
   "cell_type": "code",
   "execution_count": 18,
   "id": "2e879929",
   "metadata": {},
   "outputs": [],
   "source": [
    "import boto3\n",
    "\n",
    "batch_client = boto3.client('batch')\n",
    "\n",
    "def submit_job(job_name, queue_name, job_definition, command):\n",
    "    response = batch_client.submit_job(\n",
    "        jobName=job_name,\n",
    "        jobQueue= queue_name,\n",
    "        jobDefinition=job_definition,\n",
    "        containerOverrides={\n",
    "            'command': command\n",
    "        }\n",
    "    )\n",
    "\n",
    "\n",
    "# 在AWS Batch中定义好的任务queue\n",
    "quene_name = 'backtest-queue'\n",
    "# 在AWS Batch中定义好的job definition名\n",
    "job_definition = 'backtest_strategy_1'\n",
    "\n",
    "# 存储桶名\n",
    "s3_source = 'backtest-source-2022-03-07' # 用于存储数据源，请按照自己的习惯修改修改名称\n",
    "s3_dest = 'backtest-dest-2022-03-07' # 用于存储计算结果，请按照自己的习惯修改名称\n",
    "\n",
    "source_file_list=['600519.csv','600559.csv','600560.csv']\n",
    "\n",
    "# 循环提交所有的任务，通过复用job definition，覆盖Command的方式提交Job\n",
    "for file in source_file_list:\n",
    "    # 依据文件名生成不同的Job任务的执行指令\n",
    "    #\"python\",\"backtest.py\",\"backtest-source-2022-03-07\",\"600519.csv\",\"backtest-dest-2022-03-07\"\n",
    "    command = [\"python\",\"backtest.py\",s3_source,file,s3_dest]\n",
    "    job_name = job_definition + '_for_'+file[:-4] # Job名称为 jobDefinition_for_filename\n",
    "    submit_job(job_name,quene_name,job_definition,command) \n"
   ]
  },
  {
   "cell_type": "code",
   "execution_count": null,
   "id": "f9b0213e",
   "metadata": {},
   "outputs": [],
   "source": []
  }
 ],
 "metadata": {
  "kernelspec": {
   "display_name": "conda_python3",
   "language": "python",
   "name": "conda_python3"
  },
  "language_info": {
   "codemirror_mode": {
    "name": "ipython",
    "version": 3
   },
   "file_extension": ".py",
   "mimetype": "text/x-python",
   "name": "python",
   "nbconvert_exporter": "python",
   "pygments_lexer": "ipython3",
   "version": "3.6.13"
  }
 },
 "nbformat": 4,
 "nbformat_minor": 5
}
